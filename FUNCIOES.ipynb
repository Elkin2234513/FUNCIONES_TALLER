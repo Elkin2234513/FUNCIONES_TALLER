{
  "nbformat": 4,
  "nbformat_minor": 0,
  "metadata": {
    "colab": {
      "provenance": [],
      "authorship_tag": "ABX9TyOZ47fDUEnGFeH8ZK4E4xO+",
      "include_colab_link": true
    },
    "kernelspec": {
      "name": "python3",
      "display_name": "Python 3"
    },
    "language_info": {
      "name": "python"
    }
  },
  "cells": [
    {
      "cell_type": "markdown",
      "metadata": {
        "id": "view-in-github",
        "colab_type": "text"
      },
      "source": [
        "<a href=\"https://colab.research.google.com/github/Elkin2234513/FUNCIONES_TALLER/blob/main/FUNCIOES.ipynb\" target=\"_parent\"><img src=\"https://colab.research.google.com/assets/colab-badge.svg\" alt=\"Open In Colab\"/></a>"
      ]
    },
    {
      "cell_type": "code",
      "execution_count": null,
      "metadata": {
        "id": "SW4lCDBeTyIs"
      },
      "outputs": [],
      "source": [
        "print(\"----------------------------\")\n",
        "print(\"BUSCAR UN NÚMERO EN CONJUNTO\")\n",
        "print(\"----------------------------\")\n",
        "#Entrada\n",
        "b= int(input(\"Número a buscar: \")) #se recibe el dato del usuario\n",
        "\n",
        "#Procesamiento\n",
        "a = [1,2,3,4,5] #Se almacena la lista de datos\n",
        "r = False #Se inicia la variable r con un valor Falso\n",
        "for i in a:\n",
        "    if i==b:\n",
        "        print(\"Lo encontré\")\n",
        "        r=True\n",
        "if r ==False:\n",
        "    print(\"No lo encontré\")\n",
        "#Salida\n",
        "print(\"\\nEso era...\")"
      ]
    },
    {
      "cell_type": "code",
      "source": [
        "print(\"----------------------------\")\n",
        "print(\"BUSCAR UN NÚMERO EN CONJUNTO\")\n",
        "print(\"----------------------------\")\n",
        "#Definición de la función\n",
        "def buscarDatoEnLista(datoABuscar, lista):\n",
        "    r = False \n",
        "    for i in lista:\n",
        "        if i == datoABuscar:\n",
        "            r = True\n",
        "    return r\n",
        "\n",
        "#Entrada\n",
        "dato = int(input(\"Número a buscar: \"))#se recibe el dato del usuario\n",
        "#Procesamiento\n",
        "lista = [1,2,3,4,5] #Se almacena la lista de datos\n",
        "if buscarDatoEnLista(dato, lista):\n",
        "    print(\"Lo encontré\")\n",
        "else:\n",
        "    print(\"No lo encontré\")\n",
        "#Salida\n",
        "print(\"\\nEso era...\")"
      ],
      "metadata": {
        "id": "eH-iCypdWDsS"
      },
      "execution_count": null,
      "outputs": []
    }
  ]
}